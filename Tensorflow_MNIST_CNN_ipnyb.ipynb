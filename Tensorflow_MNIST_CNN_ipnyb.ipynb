{
  "nbformat": 4,
  "nbformat_minor": 0,
  "metadata": {
    "colab": {
      "provenance": [],
      "authorship_tag": "ABX9TyN6CFZkuwJnx184CTIiIEqU"
    },
    "kernelspec": {
      "name": "python3",
      "display_name": "Python 3"
    },
    "language_info": {
      "name": "python"
    }
  },
  "cells": [
    {
      "cell_type": "code",
      "source": [
        "!pip install sklearn"
      ],
      "metadata": {
        "colab": {
          "base_uri": "https://localhost:8080/"
        },
        "id": "Zcjl2rBC-uvT",
        "outputId": "64cd8d2a-12f2-4ea6-fdad-19322d871960"
      },
      "execution_count": 17,
      "outputs": [
        {
          "output_type": "stream",
          "name": "stdout",
          "text": [
            "Collecting sklearn\n",
            "  Using cached sklearn-0.0.post12.tar.gz (2.6 kB)\n",
            "  \u001b[1;31merror\u001b[0m: \u001b[1msubprocess-exited-with-error\u001b[0m\n",
            "  \n",
            "  \u001b[31m×\u001b[0m \u001b[32mpython setup.py egg_info\u001b[0m did not run successfully.\n",
            "  \u001b[31m│\u001b[0m exit code: \u001b[1;36m1\u001b[0m\n",
            "  \u001b[31m╰─>\u001b[0m See above for output.\n",
            "  \n",
            "  \u001b[1;35mnote\u001b[0m: This error originates from a subprocess, and is likely not a problem with pip.\n",
            "  Preparing metadata (setup.py) ... \u001b[?25l\u001b[?25herror\n",
            "\u001b[1;31merror\u001b[0m: \u001b[1mmetadata-generation-failed\u001b[0m\n",
            "\n",
            "\u001b[31m×\u001b[0m Encountered error while generating package metadata.\n",
            "\u001b[31m╰─>\u001b[0m See above for output.\n",
            "\n",
            "\u001b[1;35mnote\u001b[0m: This is an issue with the package mentioned above, not pip.\n",
            "\u001b[1;36mhint\u001b[0m: See above for details.\n"
          ]
        }
      ]
    },
    {
      "cell_type": "code",
      "execution_count": 23,
      "metadata": {
        "id": "1JPeyIbTlT_W"
      },
      "outputs": [],
      "source": [
        "import tensorflow as tf\n",
        "from sklearn.model_selection import KFold\n",
        "from matplotlib import pyplot as plt\n",
        "import numpy as np\n"
      ]
    },
    {
      "cell_type": "markdown",
      "source": [
        "Start-off talk"
      ],
      "metadata": {
        "id": "QGgxqJbatgiz"
      }
    },
    {
      "cell_type": "code",
      "source": [
        "#loading dataset\n",
        "train, test = tf.keras.datasets.mnist.load_data()\n",
        "(trainX, trainY) = train\n",
        "(testX, testY) = test\n",
        "\n",
        "print('Training data: X=%s, Y=%s' % (trainX.shape, trainY.shape))\n",
        "print('Testing data: X=%s, Y=%s' % (testX.shape, testY.shape))\n",
        "\n",
        "\n",
        "# displaying the dataset\n",
        "for i in range(12):\n",
        "    # define subplot\n",
        "    plt.subplot(3, 4, i + 1)  # 3 rows, 4 columns\n",
        "    # plot raw pixel data\n",
        "    plt.imshow(trainX[i], cmap=plt.get_cmap('gray'))\n",
        "\n",
        "plt.show()"
      ],
      "metadata": {
        "colab": {
          "base_uri": "https://localhost:8080/",
          "height": 522
        },
        "id": "c0CRrBYKlzRi",
        "outputId": "f3cbeebf-ab63-497e-c12d-97a70a728577"
      },
      "execution_count": 24,
      "outputs": [
        {
          "output_type": "stream",
          "name": "stdout",
          "text": [
            "Downloading data from https://storage.googleapis.com/tensorflow/tf-keras-datasets/mnist.npz\n",
            "11490434/11490434 [==============================] - 1s 0us/step\n",
            "Training data: X=(60000, 28, 28), Y=(60000,)\n",
            "Testing data: X=(10000, 28, 28), Y=(10000,)\n"
          ]
        },
        {
          "output_type": "display_data",
          "data": {
            "text/plain": [
              "<Figure size 640x480 with 12 Axes>"
            ],
            "image/png": "[encoded data removed]"
          },
          "metadata": {}
        }
      ]
    },
    {
      "cell_type": "markdown",
      "source": [
        "As we can see, the MNIST dataset is comprised entirely of handwritten numerical digits, 0 through 9. I'll be using a convolutional neural network (CNN) here to create a model that views a piece of writing and predicts what digit is shown.\n",
        "\n",
        "Since they're all black and white, we can put them all into one color channel."
      ],
      "metadata": {
        "id": "6hw9NcOyxVAH"
      }
    },
    {
      "cell_type": "markdown",
      "source": [
        "We can then put each sample into a single hot encoding. Each point will have a binary vector of 10, with 1 for the class value and 0 for all the other values. So, if the number is 3, it'll still print 3, but it'll be programed like this:\n",
        "\n",
        "```{0, 0, 0, 1, 0, 0, 0, 0, 0, 0}```"
      ],
      "metadata": {
        "id": "5bNs6ot8ydEW"
      }
    },
    {
      "cell_type": "markdown",
      "source": [
        "After that, we'll need to turn the training and test input data from integers ranging [0, 255] to floats ranging [0, 1]."
      ],
      "metadata": {
        "id": "7MEPqRG6FoHk"
      }
    },
    {
      "cell_type": "code",
      "source": [
        "#putting it together into a handy function\n",
        "def mnist_load():\n",
        "  train, test = tf.keras.datasets.mnist.load_data()\n",
        "  (trainX, trainY) = train\n",
        "  (testX, testY) = test\n",
        "\n",
        "  # reshaping the dataset\n",
        "  trainX = trainX.reshape((trainX.shape[0], 28, 28, 1))\n",
        "  testX = testX.reshape((testX.shape[0], 28, 28, 1))\n",
        "\n",
        "  # all hots to encode target values\n",
        "  trainY = tf.keras.utils.to_categorical(trainY)\n",
        "  testY = tf.keras.utils.to_categorical(testY)\n",
        "\n",
        "  # scaling the pixels\n",
        "  trainX = trainX.astype('float32') / 255.0\n",
        "  testX = testX.astype('float32') / 255.0\n",
        "  # ex. 173 -> .678431...\n",
        "\n",
        "  return trainX, trainY, testX, testY"
      ],
      "metadata": {
        "id": "8FeYixrqwiDr"
      },
      "execution_count": 45,
      "outputs": []
    },
    {
      "cell_type": "markdown",
      "source": [
        "Now to start on the model. I'll use one (3, 3) convolutional layer and a changeable number of filters, ending with a max pooling layer. The learning rate and momentum will also be changeable. This allows for comparison on how differently set-up models will perform."
      ],
      "metadata": {
        "id": "7MMr_iawEfhk"
      }
    },
    {
      "cell_type": "code",
      "source": [
        "def mnist_model(filters, learning_rate, momentum):\n",
        "  model = tf.keras.Sequential()\n",
        "  model.add(tf.keras.layers.Conv2D(filters, (3, 3), activation='relu', kernel_initializer='he_uniform', input_shape=(28, 28, 1)))\n",
        "  model.add(tf.keras.layers.MaxPooling2D((2, 2)))\n",
        "  model.add(tf.keras.layers.Flatten())\n",
        "  model.add(tf.keras.layers.Dense(100, activation='relu', kernel_initializer='he_uniform'))\n",
        "  model.add(tf.keras.layers.Dense(10, activation='softmax'))\n",
        "  #model compilation\n",
        "  opt = tf.keras.optimizers.experimental.SGD(learning_rate=learning_rate, momentum=momentum)\n",
        "  model.compile(optimizer=opt, loss='categorical_crossentropy', metrics=['accuracy'])\n",
        "  return model"
      ],
      "metadata": {
        "id": "LsmJMTVOFBKj"
      },
      "execution_count": 47,
      "outputs": []
    },
    {
      "cell_type": "code",
      "source": [
        "mnist_model(48, 0.008, 0.9)"
      ],
      "metadata": {
        "id": "ZO6tmAMzKpeZ"
      },
      "execution_count": 30,
      "outputs": []
    },
    {
      "cell_type": "markdown",
      "source": [
        "Now we'll create the function for evaluating the model. We'll be using a k-fold here."
      ],
      "metadata": {
        "id": "FjqdD2bgPumx"
      }
    },
    {
      "cell_type": "code",
      "source": [
        "# Uses a k-fold to evaluate the model\n",
        "# k-fold divides the testing data into n number of folds, each one taking turns\n",
        "# being the testing data.\n",
        "def evaluate_model(trainX, trainY, filters, learning_rate, momentum, n_folds=5):\n",
        "\tscores = []\n",
        "\thistories = []\n",
        "\t# creates n number of kfolds, shuffling the data\n",
        "\tkfold = KFold(n_folds, shuffle=True, random_state=1)\n",
        "\t# assigns the training and testing data\n",
        "\tfor train_ix, test_ix in kfold.split(trainX):\n",
        "\t\t# constructs the model\n",
        "\t\tmodel = mnist_model(filters, learning_rate, momentum)\n",
        "\t\t# select rows for each mindpoint training and testing session\n",
        "\t\ttrainx = trainX[train_ix]\n",
        "\t\ttrainy = trainY[train_ix]\n",
        "\t\ttestx = trainX[test_ix]\n",
        "\t\ttesty = trainY[test_ix]\n",
        "\t\t# fit model\n",
        "\t\thistory = model.fit(trainx, trainy, epochs=10, batch_size=32, validation_data=(testx, testy), verbose=0)\n",
        "\t\t# evaluate model\n",
        "\t\t_, acc = model.evaluate(testx, testy, verbose=0)\n",
        "\t\tprint('>%.2f' % (acc * 100.0))\n",
        "\t\t# stores scores\n",
        "\t\tscores.append(acc)\n",
        "\t\thistories.append(history)\n",
        "\treturn scores, histories\n"
      ],
      "metadata": {
        "id": "lDJHCTcqPjst"
      },
      "execution_count": 64,
      "outputs": []
    },
    {
      "cell_type": "code",
      "source": [
        "kfold = KFold(5, shuffle=True, random_state=1)\n",
        "\n",
        "for train_ix, test_ix in kfold.split(trainX):\n",
        "  print(train_ix, test_ix)"
      ],
      "metadata": {
        "colab": {
          "base_uri": "https://localhost:8080/"
        },
        "id": "BlQR91io_L1I",
        "outputId": "996e8389-1115-4678-a41c-5221e74fd5c9"
      },
      "execution_count": 63,
      "outputs": [
        {
          "output_type": "stream",
          "name": "stdout",
          "text": [
            "[    0     1     2 ... 59997 59998 59999] [   10    12    28 ... 59967 59968 59971]\n",
            "[    0     1     4 ... 59997 59998 59999] [    2     3     8 ... 59976 59984 59994]\n",
            "[    1     2     3 ... 59995 59998 59999] [    0    21    22 ... 59993 59996 59997]\n",
            "[    0     2     3 ... 59997 59998 59999] [    1     4     5 ... 59990 59991 59995]\n",
            "[    0     1     2 ... 59995 59996 59997] [    9    14    15 ... 59989 59998 59999]\n"
          ]
        }
      ]
    },
    {
      "cell_type": "code",
      "source": [],
      "metadata": {
        "id": "4k3Deu9PAS_E"
      },
      "execution_count": null,
      "outputs": []
    },
    {
      "cell_type": "markdown",
      "source": [
        "Special thanks to Jason Brownlee for help."
      ],
      "metadata": {
        "id": "EoF97eYeK_Uu"
      }
    }
  ]
}